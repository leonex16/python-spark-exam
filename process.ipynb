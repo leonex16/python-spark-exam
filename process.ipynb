{
  "cells": [
    {
      "cell_type": "code",
      "execution_count": 28,
      "metadata": {
        "id": "hlywHRkI6PpZ"
      },
      "outputs": [],
      "source": [
        "import pandas as pd"
      ]
    },
    {
      "cell_type": "code",
      "execution_count": 29,
      "metadata": {
        "id": "rAPvJKJY6uGo"
      },
      "outputs": [],
      "source": [
        "sheet_names = [\n",
        "  'homologacion_pais',\n",
        "  'homologacion_rating',\n",
        "  'rating_empresa',\n",
        "  'rating_soberano'\n",
        "]\n",
        "data = pd.read_excel(\"data/data.xlsx\", sheet_names, na_values=[\"null\"])"
      ]
    },
    {
      "cell_type": "code",
      "execution_count": 30,
      "metadata": {
        "id": "fZFN_2tzMoEj"
      },
      "outputs": [],
      "source": [
        "def iterateForData(cb):\n",
        "  for sheet_name, content in data.items():\n",
        "    cb(sheet_name, content)"
      ]
    },
    {
      "cell_type": "code",
      "execution_count": 31,
      "metadata": {
        "colab": {
          "base_uri": "https://localhost:8080/"
        },
        "id": "CzsWwbbYIa5S",
        "outputId": "be89d2dd-bb0f-4806-ec2e-0a9d3c026b33"
      },
      "outputs": [
        {
          "name": "stdout",
          "output_type": "stream",
          "text": [
            "homologacion_pais\n",
            "--------------------\n",
            "pais        0\n",
            "cod_pais    0\n",
            "pais_bbg    0\n",
            "dtype: int64\n",
            "\n",
            "********************\n",
            "\n",
            "homologacion_rating\n",
            "--------------------\n",
            "orden_agencia    0\n",
            "agencia          0\n",
            "agencia_homol    0\n",
            "rating           0\n",
            "rating_norma     0\n",
            "orden_norma      0\n",
            "dtype: int64\n",
            "\n",
            "********************\n",
            "\n",
            "rating_empresa\n",
            "--------------------\n",
            "rut         0\n",
            "dv          0\n",
            "nombre      0\n",
            "pais_bbg    0\n",
            "mdy         0\n",
            "sp          0\n",
            "fitch       0\n",
            "tipo        0\n",
            "dtype: int64\n",
            "\n",
            "********************\n",
            "\n",
            "rating_soberano\n",
            "--------------------\n",
            "pais_bbg     0\n",
            "ticker       0\n",
            "region       0\n",
            "sp          30\n",
            "fitch       57\n",
            "mdy         30\n",
            "dtype: int64\n",
            "\n",
            "********************\n",
            "\n"
          ]
        }
      ],
      "source": [
        "def printDFInformation(sheet_name, content):\n",
        "  print(f'{sheet_name}')\n",
        "  print('-' * 20)\n",
        "  print(content.isnull().sum())\n",
        "  print('')\n",
        "  print('*' * 20)\n",
        "  print('')\n",
        "\n",
        "iterateForData(printDFInformation)"
      ]
    },
    {
      "cell_type": "code",
      "execution_count": 32,
      "metadata": {
        "id": "jDRsnuqC7GWj"
      },
      "outputs": [],
      "source": [
        "def dropColsOfDF(sheet_name, content):\n",
        "  to_drop = {\n",
        "    'homologacion_pais': [\n",
        "      'cod_pais',\n",
        "    ],\n",
        "    'homologacion_rating': [\n",
        "      'orden_agencia',\n",
        "      'agencia',\n",
        "    ],\n",
        "    'rating_empresa': [\n",
        "      'tipo',\n",
        "    ],\n",
        "    'rating_soberano': [\n",
        "      'ticker',\n",
        "      'region',\n",
        "    ],\n",
        "  }\n",
        "\n",
        "  for sheet_name_del, col_del in to_drop.items():\n",
        "    if sheet_name == sheet_name_del:\n",
        "      content.drop(columns=col_del, inplace=True)\n",
        "\n",
        "iterateForData(dropColsOfDF)"
      ]
    },
    {
      "cell_type": "code",
      "execution_count": 33,
      "metadata": {
        "id": "KS0Des2pSSCl"
      },
      "outputs": [],
      "source": [
        "def replaceStr(sheet_name, content):\n",
        "  if sheet_name == 'rating_soberano':\n",
        "    content.replace(to_replace=r'u$', value='', regex=True, inplace=True)\n",
        "    content.replace(to_replace=r'^[^(?!A)|(?!B)|(?!C)|(?!D)|(?!E)].*', value='', regex=True, inplace=True)\n",
        "\n",
        "iterateForData(replaceStr)"
      ]
    },
    {
      "cell_type": "code",
      "execution_count": 34,
      "metadata": {
        "id": "vrwi633xCHsU"
      },
      "outputs": [],
      "source": [
        "def toUpperCase(sheet_name, content):\n",
        "  for column_name in content:\n",
        "    content[column_name] = content[column_name].astype(str).str.upper()\n",
        "\n",
        "iterateForData(toUpperCase)"
      ]
    },
    {
      "cell_type": "code",
      "execution_count": 35,
      "metadata": {
        "colab": {
          "base_uri": "https://localhost:8080/"
        },
        "id": "tyCb9iC4OyFM",
        "outputId": "5737c2e8-0063-4467-871b-f54fbec27f7f"
      },
      "outputs": [
        {
          "name": "stdout",
          "output_type": "stream",
          "text": [
            "homologacion_pais\n",
            "--------------------\n",
            "pais        0\n",
            "pais_bbg    0\n",
            "dtype: int64\n",
            "\n",
            "********************\n",
            "\n",
            "homologacion_rating\n",
            "--------------------\n",
            "agencia_homol    0\n",
            "rating           0\n",
            "rating_norma     0\n",
            "orden_norma      0\n",
            "dtype: int64\n",
            "\n",
            "********************\n",
            "\n",
            "rating_empresa\n",
            "--------------------\n",
            "rut         0\n",
            "dv          0\n",
            "nombre      0\n",
            "pais_bbg    0\n",
            "mdy         0\n",
            "sp          0\n",
            "fitch       0\n",
            "dtype: int64\n",
            "\n",
            "********************\n",
            "\n",
            "rating_soberano\n",
            "--------------------\n",
            "pais_bbg    0\n",
            "sp          0\n",
            "fitch       0\n",
            "mdy         0\n",
            "dtype: int64\n",
            "\n",
            "********************\n",
            "\n"
          ]
        }
      ],
      "source": [
        "def printDFInformation(sheet_name, content):\n",
        "  print(f'{sheet_name}')\n",
        "  print('-' * 20)\n",
        "  print(content.fillna('').isnull().sum())\n",
        "  print('')\n",
        "  print('*' * 20)\n",
        "  print('')\n",
        "  \n",
        "iterateForData(printDFInformation)"
      ]
    },
    {
      "cell_type": "code",
      "execution_count": 36,
      "metadata": {
        "id": "mY6jLNGYXSi0"
      },
      "outputs": [],
      "source": [
        "for sheet_name, content in data.items():\n",
        "  content.fillna('').to_csv(f'data/out{sheet_name}.csv', sep='|')"
      ]
    }
  ],
  "metadata": {
    "colab": {
      "collapsed_sections": [],
      "name": "process.ipynb",
      "provenance": []
    },
    "kernelspec": {
      "display_name": "Python 3",
      "language": "python",
      "name": "python3"
    },
    "language_info": {
      "codemirror_mode": {
        "name": "ipython",
        "version": 3
      },
      "file_extension": ".py",
      "mimetype": "text/x-python",
      "name": "python",
      "nbconvert_exporter": "python",
      "pygments_lexer": "ipython3",
      "version": "3.9.2"
    }
  },
  "nbformat": 4,
  "nbformat_minor": 0
}
